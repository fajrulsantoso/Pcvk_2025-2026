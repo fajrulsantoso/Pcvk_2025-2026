{
  "nbformat": 4,
  "nbformat_minor": 0,
  "metadata": {
    "colab": {
      "provenance": [],
      "authorship_tag": "ABX9TyP11Jn4qfdzHEkKJFD9cI9a",
      "include_colab_link": true
    },
    "kernelspec": {
      "name": "python3",
      "display_name": "Python 3"
    },
    "language_info": {
      "name": "python"
    }
  },
  "cells": [
    {
      "cell_type": "markdown",
      "metadata": {
        "id": "view-in-github",
        "colab_type": "text"
      },
      "source": [
        "<a href=\"https://colab.research.google.com/github/fajrulsantoso/Pcvk_2025-2026/blob/main/%E2%80%9CWeek3_ipynb%E2%80%9D_.ipynb\" target=\"_parent\"><img src=\"https://colab.research.google.com/assets/colab-badge.svg\" alt=\"Open In Colab\"/></a>"
      ]
    },
    {
      "cell_type": "code",
      "execution_count": null,
      "metadata": {
        "id": "epC0wWkEV8Jy",
        "colab": {
          "base_uri": "https://localhost:8080/"
        },
        "outputId": "1328533e-bf9b-4ca5-cf77-ac7a032cce70"
      },
      "outputs": [
        {
          "output_type": "stream",
          "name": "stdout",
          "text": [
            "=== HACKING SIMULATOR ===\n"
          ]
        }
      ],
      "source": [
        "import random\n",
        "\n",
        "print(\"=== HACKING SIMULATOR ===\")\n",
        "password = \"polinema\"\n",
        "attempts = 3\n",
        "\n",
        "while attempts > 0:\n",
        "    guess = input(\"Masukkan password: \")\n",
        "    if guess == password:\n",
        "        print(\"✅ Akses diterima! Kamu berhasil hack sistem.\")\n",
        "        break\n",
        "    else:\n",
        "        attempts -= 1\n",
        "        print(f\"❌ Salah! Sisa percobaan: {attempts}\")\n",
        "\n",
        "if attempts == 0:\n",
        "    print(\"🚫 Kamu gagal hack sistem. Game Over!\")\n"
      ]
    }
  ]
}